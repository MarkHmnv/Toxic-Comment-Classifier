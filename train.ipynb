{
 "cells": [
  {
   "cell_type": "markdown",
   "source": [
    "<a target=\"_blank\" href=\"https://colab.research.google.com/github/MarkHmnv/Toxic-Comment-Classifier/blob/main/train.ipynb\">\n",
    "  <img src=\"https://colab.research.google.com/assets/colab-badge.svg\" alt=\"Open In Colab\"/>\n",
    "</a>"
   ],
   "metadata": {
    "collapsed": false
   },
   "id": "d8bd660a06e45e2d"
  },
  {
   "cell_type": "markdown",
   "source": [
    "# Upload you kaggle API token(kaggle.json)"
   ],
   "metadata": {
    "collapsed": false
   },
   "id": "c39d3989c89a499"
  },
  {
   "cell_type": "code",
   "execution_count": null,
   "outputs": [],
   "source": [
    "from google.colab import files\n",
    "\n",
    "uploaded = files.upload()\n",
    "\n",
    "for fn in uploaded.keys():\n",
    "    print(f'User uploaded file \"{fn}\" with length {len(uploaded[fn])} bytes')"
   ],
   "metadata": {
    "collapsed": false
   },
   "id": "1cf78f1ad4f58e8a"
  },
  {
   "cell_type": "code",
   "execution_count": null,
   "outputs": [],
   "source": [
    "# Add kaggle API token\n",
    "!mkdir -p ~/.kaggle\n",
    "!cp kaggle.json ~/.kaggle/\n",
    "!chmod 600 ~/.kaggle/kaggle.json"
   ],
   "metadata": {
    "collapsed": false
   },
   "id": "42b03a0a83ab930f"
  },
  {
   "cell_type": "code",
   "execution_count": null,
   "outputs": [],
   "source": [
    "# Download the dataset and unzip it\n",
    "!kaggle datasets download -d fizzbuzz/cleaned-toxic-comments\n",
    "!unzip cleaned-toxic-comments.zip"
   ],
   "metadata": {
    "collapsed": false
   },
   "id": "7bf799be62822a52"
  },
  {
   "cell_type": "code",
   "execution_count": null,
   "outputs": [],
   "source": [
    "# If you use Google Colab - clone the repository and move model.py to the root folder\n",
    "!git clone https://github.com/MarkHmnv/Toxic-Comment-Classifier.git\n",
    "!mv Toxic-Comment-Classifier/model.py /content/"
   ],
   "metadata": {
    "collapsed": false
   },
   "id": "6b0dac5fffdb85a8"
  },
  {
   "cell_type": "code",
   "execution_count": null,
   "id": "initial_id",
   "metadata": {
    "collapsed": true
   },
   "outputs": [],
   "source": [
    "import pandas as pd\n",
    "import seaborn as sns\n",
    "import tensorflow as tf\n",
    "from model import ToxicCommentClassifier\n",
    "from sklearn.model_selection import train_test_split\n",
    "\n",
    "sns.set()"
   ]
  },
  {
   "cell_type": "code",
   "execution_count": null,
   "outputs": [],
   "source": [
    "# Load the data\n",
    "data = pd.read_csv('train_preprocessed.csv')"
   ],
   "metadata": {
    "collapsed": false
   },
   "id": "33a7d812a0e20b2d"
  },
  {
   "cell_type": "code",
   "execution_count": null,
   "outputs": [],
   "source": [
    "# Split the data into training and validating sets\n",
    "X = data['comment_text'].values\n",
    "y = data['toxic']\n",
    "\n",
    "X_train, X_valid, y_train, y_valid = train_test_split(X, y, test_size=0.2, random_state=42)"
   ],
   "metadata": {
    "collapsed": false
   },
   "id": "7c663e09b702e82b"
  },
  {
   "cell_type": "code",
   "execution_count": null,
   "outputs": [],
   "source": [
    "# Create tensorflow dataset\n",
    "train_dataset = tf.data.Dataset.from_tensor_slices((X_train, y_train))\n",
    "valid_dataset = tf.data.Dataset.from_tensor_slices((X_valid, y_valid))\n",
    "\n",
    "train_dataset = train_dataset.batch(32)\n",
    "valid_dataset = valid_dataset.batch(32)"
   ],
   "metadata": {
    "collapsed": false
   },
   "id": "31d421edbf1baf1b"
  },
  {
   "cell_type": "code",
   "execution_count": null,
   "outputs": [],
   "source": [
    "# Initialize the model and start the training\n",
    "model = ToxicCommentClassifier()\n",
    "\n",
    "model.compile(optimizer=tf.keras.optimizers.Adam(learning_rate=2e-5),\n",
    "              loss=tf.keras.losses.BinaryCrossentropy(),\n",
    "              metrics=['accuracy'])\n",
    "\n",
    "history = model.fit(train_dataset, validation_data=valid_dataset, epochs=5)"
   ],
   "metadata": {
    "collapsed": false
   },
   "id": "da0a0b19fcc5e1f6"
  },
  {
   "cell_type": "code",
   "execution_count": null,
   "outputs": [],
   "source": [
    "# Plot training and validation accuracy and loss\n",
    "pd.DataFrame(history.history).plot()"
   ],
   "metadata": {
    "collapsed": false
   },
   "id": "f6be71cc8049e89a"
  },
  {
   "cell_type": "code",
   "execution_count": null,
   "outputs": [],
   "source": [
    "# You can test the model predictions\n",
    "sentence = [\"It's very nice weather today.\"]\n",
    "prediction = model.predict(sentence)\n",
    "prediction[0]"
   ],
   "metadata": {
    "collapsed": false
   },
   "id": "5fd7e6ce66d95f4"
  },
  {
   "cell_type": "code",
   "execution_count": null,
   "outputs": [],
   "source": [
    "# Save the model\n",
    "model.save('/content')"
   ],
   "metadata": {
    "collapsed": false
   },
   "id": "3f07a11bd6f582f"
  },
  {
   "cell_type": "code",
   "execution_count": null,
   "outputs": [],
   "source": [
    "# If you use Google Colab you can download the model\n",
    "def download_model():\n",
    "    from google.colab import files\n",
    "\n",
    "    files.download('/content/saved_model.pb')\n",
    "\n",
    "download_model()"
   ],
   "metadata": {
    "collapsed": false
   },
   "id": "81f80ce0252eac17"
  }
 ],
 "metadata": {
  "kernelspec": {
   "display_name": "Python 3",
   "language": "python",
   "name": "python3"
  },
  "language_info": {
   "codemirror_mode": {
    "name": "ipython",
    "version": 2
   },
   "file_extension": ".py",
   "mimetype": "text/x-python",
   "name": "python",
   "nbconvert_exporter": "python",
   "pygments_lexer": "ipython2",
   "version": "2.7.6"
  }
 },
 "nbformat": 4,
 "nbformat_minor": 5
}
